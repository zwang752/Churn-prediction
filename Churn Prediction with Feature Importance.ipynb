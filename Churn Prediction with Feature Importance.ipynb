{
 "cells": [
  {
   "cell_type": "markdown",
   "metadata": {
    "id": "MePsHQPsYwtP"
   },
   "source": [
    "# Setup"
   ]
  },
  {
   "cell_type": "code",
   "execution_count": null,
   "metadata": {
    "colab": {
     "base_uri": "https://localhost:8080/",
     "height": 445
    },
    "executionInfo": {
     "elapsed": 2906,
     "status": "error",
     "timestamp": 1615756406097,
     "user": {
      "displayName": "Zhe Wang",
      "photoUrl": "",
      "userId": "10298367594799987348"
     },
     "user_tz": 420
    },
    "id": "FiNkvaBHYwtT",
    "outputId": "9dd6e872-2dce-48a0-cd26-b4b4e43191ec"
   },
   "outputs": [],
   "source": [
    "import pandas as pd\n",
    "import numpy as np\n",
    "from plotnine import * # ggplot in python\n",
    "import matplotlib.pyplot as plt\n",
    "from matplotlib import pyplot\n",
    "import random\n",
    "import seaborn as sns\n",
    "from sklearn.ensemble import RandomForestClassifier\n",
    "random.seed(2021)\n",
    "%matplotlib inline\n",
    "import datetime as dt\n",
    "from scipy.stats import skew\n",
    "from scipy.special import boxcox1p\n",
    "from scipy.stats import boxcox_normmax\n",
    "from sklearn.metrics import classification_report, confusion_matrix\n",
    "from sklearn.preprocessing import StandardScaler\n",
    "from imblearn.over_sampling import SMOTE\n",
    "from sklearn.linear_model import LogisticRegressionCV\n",
    "from sklearn.model_selection import cross_val_score\n",
    "from sklearn import metrics\n",
    "from sklearn.linear_model import Lasso,LassoCV\n",
    "from sklearn.metrics import roc_auc_score, roc_curve\n",
    "from sklearn import preprocessing\n",
    "from sklearn.preprocessing import LabelEncoder\n",
    "from sklearn.linear_model import LogisticRegression\n",
    "from sklearn.model_selection import train_test_split\n",
    "from sklearn.metrics import plot_confusion_matrix\n",
    "import shap"
   ]
  },
  {
   "cell_type": "markdown",
   "metadata": {
    "id": "cvwSsbguYwtU"
   },
   "source": [
    "# Data Preparation"
   ]
  },
  {
   "cell_type": "code",
   "execution_count": null,
   "metadata": {
    "colab": {
     "base_uri": "https://localhost:8080/",
     "height": 302
    },
    "executionInfo": {
     "elapsed": 1369,
     "status": "ok",
     "timestamp": 1615756412541,
     "user": {
      "displayName": "Zhe Wang",
      "photoUrl": "",
      "userId": "10298367594799987348"
     },
     "user_tz": 420
    },
    "id": "HOWluWGLYwtV",
    "outputId": "e7e56122-ff4e-494f-ac4e-3ce38135807e"
   },
   "outputs": [],
   "source": [
    "#get value from the sheet\n",
    "data_value = sheet.get_all_values()\n",
    "\n",
    "#create a dataframe and put the data in\n",
    "df=pd.DataFrame(data=data_value)\n",
    "#Replacing Header with the first row\n",
    "df.columns = df.iloc[0]\n",
    "#Delete the first row\n",
    "df = df[1:]\n",
    "df.replace({'': None}, inplace=True)\n",
    "df = df.drop(df.columns[[0]], axis=1)\n",
    "#Column names\n",
    "names = ['Fund Account ID', 'Start Date', 'End Date', 'Plan Status',\n",
    "       'Plan Lifetime (Months)', 'First-Time Depositor Subscriber (Yes / No)',\n",
    "       'Category Name', 'Medium Bucket', 'Monthly Plan Deposit Amount',\n",
    "       'Plan Donation Rate', 'User Country']\n",
    "df.columns = names\n",
    "#Change the dates columns to start and end\n",
    "\n",
    "df.head()"
   ]
  },
  {
   "cell_type": "code",
   "execution_count": null,
   "metadata": {
    "colab": {
     "base_uri": "https://localhost:8080/"
    },
    "executionInfo": {
     "elapsed": 257,
     "status": "ok",
     "timestamp": 1615756414584,
     "user": {
      "displayName": "Zhe Wang",
      "photoUrl": "",
      "userId": "10298367594799987348"
     },
     "user_tz": 420
    },
    "id": "4aU6ZHl8NKYT",
    "outputId": "1b391d4b-7b38-40d6-bf60-6d3636388b05"
   },
   "outputs": [],
   "source": [
    "len(df)"
   ]
  },
  {
   "cell_type": "code",
   "execution_count": null,
   "metadata": {
    "colab": {
     "base_uri": "https://localhost:8080/"
    },
    "executionInfo": {
     "elapsed": 250,
     "status": "ok",
     "timestamp": 1615756416505,
     "user": {
      "displayName": "Zhe Wang",
      "photoUrl": "",
      "userId": "10298367594799987348"
     },
     "user_tz": 420
    },
    "id": "PgDHlonANMW-",
    "outputId": "00d18c95-f66c-4ed8-eece-64cd4a08b187"
   },
   "outputs": [],
   "source": [
    "len(df['Fund Account ID'].unique())"
   ]
  },
  {
   "cell_type": "code",
   "execution_count": null,
   "metadata": {
    "colab": {
     "base_uri": "https://localhost:8080/"
    },
    "executionInfo": {
     "elapsed": 266,
     "status": "ok",
     "timestamp": 1615756417593,
     "user": {
      "displayName": "Zhe Wang",
      "photoUrl": "",
      "userId": "10298367594799987348"
     },
     "user_tz": 420
    },
    "id": "ovgGPkRxNd-T",
    "outputId": "e6750e41-0c6f-47a6-b65b-c599b6e2865b"
   },
   "outputs": [],
   "source": [
    "df1 = df.groupby(by=[\"Fund Account ID\"]).count()\n",
    "len(df1[df1['Start Date'] > 1])/len(df['Fund Account ID'].unique())*100\n",
    "print('Total number of unique fund id = {}'.format(len(df['Fund Account ID'].unique())))\n",
    "print('Total number of unique duplicate fund id = {}'.format(len(df1[df1['Start Date'] > 1])))\n",
    "print('Percentage of fund id cancelled and resubscribed = {}%'.format(round(len(df1[df1['Start Date'] > 1])/len(df['Fund Account ID'].unique())*100,3)))"
   ]
  },
  {
   "cell_type": "code",
   "execution_count": null,
   "metadata": {
    "id": "fNWKyflgl1Ab"
   },
   "outputs": [],
   "source": []
  },
  {
   "cell_type": "code",
   "execution_count": null,
   "metadata": {
    "id": "g-79j3oM9Kjr"
   },
   "outputs": [],
   "source": [
    "# Get join year and month\n",
    "df['Start Date'] = pd.to_datetime(df['Start Date'])\n",
    "df['Start Year'] = df['Start Date'].dt.year"
   ]
  },
  {
   "cell_type": "code",
   "execution_count": null,
   "metadata": {
    "id": "WwJHZFEOD78Y"
   },
   "outputs": [],
   "source": [
    "# Transform country into united states and others\n",
    "def country(x):\n",
    "  if x == 'United States':\n",
    "    return True\n",
    "  else:\n",
    "    return False\n",
    "\n",
    "df['Inside United States'] = df['User Country'].apply(lambda x: country(x))"
   ]
  },
  {
   "cell_type": "code",
   "execution_count": null,
   "metadata": {
    "id": "0phB-ylbPGZK"
   },
   "outputs": [],
   "source": [
    "# Whether people signup on a referal day\n",
    "range1 = pd.date_range(start = '2020-01-07', end = '2020-05-03')\n",
    "range2 = pd.date_range(start = '2020-05-22', end = '2020-06-19')\n",
    "others = ['2020-08-14', '2020-09-18', '2020-09-28', '2020-10-31', '2020-11-19']\n",
    "dates_list = [dt.datetime.strptime(date, \"%Y-%m-%d\").date() for date in others]\n",
    "def promo_day(x):\n",
    "  if x in range1:\n",
    "    return True\n",
    "  elif x in range2:\n",
    "    return True\n",
    "  elif x in dates_list:\n",
    "    return True\n",
    "  else:\n",
    "    return False\n",
    "\n",
    "df['Signup On Promo Day'] = df['Start Date'].apply(lambda x: promo_day(x))"
   ]
  },
  {
   "cell_type": "code",
   "execution_count": null,
   "metadata": {
    "id": "bANYfGfBUoiD"
   },
   "outputs": [],
   "source": [
    "# Clean numerical data\n",
    "num1 = df['Monthly Plan Deposit Amount'].apply(lambda x: float(x.replace('$','').replace(',','')))\n",
    "df['Monthly Plan Deposit Amount'] = num1\n",
    "num3 = df['Plan Donation Rate'].apply(lambda x: float(x.replace('%',''))/100)\n",
    "df['Plan Donation Rate'] = num3"
   ]
  },
  {
   "cell_type": "code",
   "execution_count": null,
   "metadata": {
    "id": "ouMpktPOH_f5"
   },
   "outputs": [],
   "source": [
    "# # Y need normalization in linear regression\n",
    "# # numerical data\n",
    "# # Monthly Plan Deposit Amount\n",
    "# print(skew(df['Monthly Plan Deposit Amount']))\n",
    "# print(skew(boxcox1p(df['Monthly Plan Deposit Amount'], boxcox_normmax(df['Monthly Plan Deposit Amount'] + 1))))\n",
    "# df['Monthly Plan Deposit Amount'] = boxcox1p(df['Monthly Plan Deposit Amount'], boxcox_normmax(df['Monthly Plan Deposit Amount'] + 1))\n",
    "\n",
    "# # Plan Donation Rate\n",
    "# print(skew(df['Plan Donation Rate']))\n",
    "# print(skew(boxcox1p(df['Plan Donation Rate'], boxcox_normmax(df['Plan Donation Rate'] + 1))))\n",
    "# df['Plan Donation Rate'] = boxcox1p(df['Plan Donation Rate'], boxcox_normmax(df['Plan Donation Rate'] + 1))"
   ]
  },
  {
   "cell_type": "code",
   "execution_count": null,
   "metadata": {
    "colab": {
     "base_uri": "https://localhost:8080/",
     "height": 336
    },
    "executionInfo": {
     "elapsed": 5268,
     "status": "ok",
     "timestamp": 1615544106423,
     "user": {
      "displayName": "Zhe Wang",
      "photoUrl": "",
      "userId": "10298367594799987348"
     },
     "user_tz": 480
    },
    "id": "eKtgdJTsIfqR",
    "outputId": "c8bb565a-7a7c-4c66-9893-52fcd65bb45e"
   },
   "outputs": [],
   "source": [
    "# User Details Fund Account ID is unique for ppl, drop it\n",
    "drop_list = ['Fund Account ID', 'Start Date', 'End Date', 'User Country', 'Plan Lifetime (Months)']\n",
    "glm_df = df.drop(columns = drop_list)\n",
    "glm_df.head()"
   ]
  },
  {
   "cell_type": "markdown",
   "metadata": {
    "id": "qrOVOVvqYwtV"
   },
   "source": [
    "# EDA"
   ]
  },
  {
   "cell_type": "code",
   "execution_count": null,
   "metadata": {
    "colab": {
     "base_uri": "https://localhost:8080/",
     "height": 418
    },
    "executionInfo": {
     "elapsed": 5550,
     "status": "ok",
     "timestamp": 1615544106711,
     "user": {
      "displayName": "Zhe Wang",
      "photoUrl": "",
      "userId": "10298367594799987348"
     },
     "user_tz": 480
    },
    "id": "JjLxyHpKtTJA",
    "outputId": "f43b6efc-de20-475f-9ced-aac2752a11a3"
   },
   "outputs": [],
   "source": [
    "connections = glm_df['Plan Donation Rate']\n",
    "connections.describe()\n",
    "sns.boxplot(connections)\n",
    "glm_df[glm_df['Plan Donation Rate'] > 10]"
   ]
  },
  {
   "cell_type": "code",
   "execution_count": null,
   "metadata": {
    "colab": {
     "base_uri": "https://localhost:8080/",
     "height": 354
    },
    "executionInfo": {
     "elapsed": 5680,
     "status": "ok",
     "timestamp": 1615544106847,
     "user": {
      "displayName": "Zhe Wang",
      "photoUrl": "",
      "userId": "10298367594799987348"
     },
     "user_tz": 480
    },
    "id": "3ASUv8kzuCuQ",
    "outputId": "2fbf3db8-1a1f-4efc-f269-f2000c8b4397"
   },
   "outputs": [],
   "source": [
    "glm_df['Monthly Plan Deposit Amount'].describe()\n",
    "sns.boxplot(glm_df['Monthly Plan Deposit Amount'])\n",
    "#glm_df[glm_df['Plan Donation Rate'] > 10]"
   ]
  },
  {
   "cell_type": "code",
   "execution_count": null,
   "metadata": {
    "colab": {
     "base_uri": "https://localhost:8080/",
     "height": 354
    },
    "executionInfo": {
     "elapsed": 5851,
     "status": "ok",
     "timestamp": 1615544107024,
     "user": {
      "displayName": "Zhe Wang",
      "photoUrl": "",
      "userId": "10298367594799987348"
     },
     "user_tz": 480
    },
    "id": "ytTa9MDlEv4b",
    "outputId": "6fd50a8b-461f-4307-a600-bffacf259211"
   },
   "outputs": [],
   "source": [
    "sns.countplot(df['Plan Status'])"
   ]
  },
  {
   "cell_type": "code",
   "execution_count": null,
   "metadata": {
    "colab": {
     "base_uri": "https://localhost:8080/",
     "height": 354
    },
    "executionInfo": {
     "elapsed": 5966,
     "status": "ok",
     "timestamp": 1615544107145,
     "user": {
      "displayName": "Zhe Wang",
      "photoUrl": "",
      "userId": "10298367594799987348"
     },
     "user_tz": 480
    },
    "id": "SdpopaonHPzm",
    "outputId": "ab44a975-721f-4784-fb38-ed774ab4fe54"
   },
   "outputs": [],
   "source": [
    "sns.countplot(glm_df['First-Time Depositor Subscriber (Yes / No)'])"
   ]
  },
  {
   "cell_type": "code",
   "execution_count": null,
   "metadata": {
    "colab": {
     "base_uri": "https://localhost:8080/",
     "height": 502
    },
    "executionInfo": {
     "elapsed": 6218,
     "status": "ok",
     "timestamp": 1615544107403,
     "user": {
      "displayName": "Zhe Wang",
      "photoUrl": "",
      "userId": "10298367594799987348"
     },
     "user_tz": 480
    },
    "id": "YcSVeus7HTD4",
    "outputId": "efc17b9c-9a93-47b1-ce47-b047cc309125"
   },
   "outputs": [],
   "source": [
    "pd.value_counts(glm_df['Category Name']).plot.bar()"
   ]
  },
  {
   "cell_type": "code",
   "execution_count": null,
   "metadata": {
    "colab": {
     "base_uri": "https://localhost:8080/",
     "height": 350
    },
    "executionInfo": {
     "elapsed": 6691,
     "status": "ok",
     "timestamp": 1615544107883,
     "user": {
      "displayName": "Zhe Wang",
      "photoUrl": "",
      "userId": "10298367594799987348"
     },
     "user_tz": 480
    },
    "id": "4-dNto35Hgiu",
    "outputId": "6833761d-b391-4579-9d9b-bfae452b6b72"
   },
   "outputs": [],
   "source": [
    "pd.value_counts(glm_df['Medium Bucket']).plot.bar()"
   ]
  },
  {
   "cell_type": "code",
   "execution_count": null,
   "metadata": {
    "colab": {
     "base_uri": "https://localhost:8080/",
     "height": 354
    },
    "executionInfo": {
     "elapsed": 6686,
     "status": "ok",
     "timestamp": 1615544107884,
     "user": {
      "displayName": "Zhe Wang",
      "photoUrl": "",
      "userId": "10298367594799987348"
     },
     "user_tz": 480
    },
    "id": "LoxobfyjHo-s",
    "outputId": "7e6aa7c0-ad96-43ef-d29f-d03aed955861"
   },
   "outputs": [],
   "source": [
    "sns.countplot(glm_df['Start Year'])"
   ]
  },
  {
   "cell_type": "code",
   "execution_count": null,
   "metadata": {
    "colab": {
     "base_uri": "https://localhost:8080/",
     "height": 354
    },
    "executionInfo": {
     "elapsed": 6818,
     "status": "ok",
     "timestamp": 1615544108022,
     "user": {
      "displayName": "Zhe Wang",
      "photoUrl": "",
      "userId": "10298367594799987348"
     },
     "user_tz": 480
    },
    "id": "J9BQSArVH0aZ",
    "outputId": "1f31a897-229b-4d47-fb14-fa7a8f777689"
   },
   "outputs": [],
   "source": [
    "sns.countplot(glm_df['Inside United States'])"
   ]
  },
  {
   "cell_type": "markdown",
   "metadata": {
    "id": "y2-X5vVQYwtW"
   },
   "source": [
    "## NA Processing"
   ]
  },
  {
   "cell_type": "code",
   "execution_count": null,
   "metadata": {
    "colab": {
     "base_uri": "https://localhost:8080/"
    },
    "executionInfo": {
     "elapsed": 6812,
     "status": "ok",
     "timestamp": 1615544108022,
     "user": {
      "displayName": "Zhe Wang",
      "photoUrl": "",
      "userId": "10298367594799987348"
     },
     "user_tz": 480
    },
    "id": "dVClo4RaYwtW",
    "outputId": "bd51080b-2584-463c-bf50-5a139af02e35"
   },
   "outputs": [],
   "source": [
    "glm_df.info()"
   ]
  },
  {
   "cell_type": "code",
   "execution_count": null,
   "metadata": {
    "colab": {
     "base_uri": "https://localhost:8080/"
    },
    "executionInfo": {
     "elapsed": 6808,
     "status": "ok",
     "timestamp": 1615544108023,
     "user": {
      "displayName": "Zhe Wang",
      "photoUrl": "",
      "userId": "10298367594799987348"
     },
     "user_tz": 480
    },
    "id": "hh6zrQYEYwtX",
    "outputId": "7de34164-811e-4d4e-943d-ef616158caba"
   },
   "outputs": [],
   "source": [
    "for col in glm_df.columns:\n",
    "    print(\"NA in '%s': %.2f\"%(col, (glm_df[col].isna().sum() / glm_df.shape[0]) * 100) + '%')"
   ]
  },
  {
   "cell_type": "code",
   "execution_count": null,
   "metadata": {
    "colab": {
     "base_uri": "https://localhost:8080/"
    },
    "executionInfo": {
     "elapsed": 6803,
     "status": "ok",
     "timestamp": 1615544108023,
     "user": {
      "displayName": "Zhe Wang",
      "photoUrl": "",
      "userId": "10298367594799987348"
     },
     "user_tz": 480
    },
    "id": "yBFPsilkQc-Y",
    "outputId": "46ca1b1f-7596-4232-a90e-f67ad2a94f05"
   },
   "outputs": [],
   "source": [
    "glm_df['Medium Bucket'].unique()"
   ]
  },
  {
   "cell_type": "code",
   "execution_count": null,
   "metadata": {
    "id": "YMxF58DIYwtX"
   },
   "outputs": [],
   "source": [
    "# 'MG Referral Source: Last Non-Direct Click Medium Bucket' is an important variable, we want to keep it so that we replace the NA with empty string\n",
    "glm_df = glm_df.fillna('unknown')"
   ]
  },
  {
   "cell_type": "markdown",
   "metadata": {
    "id": "j_qyzckWYwtZ"
   },
   "source": [
    "## Label Encoder\n",
    "\n",
    "convert string to number - Dummy\n",
    "\n",
    "* For 'Automated Lending & Deposit Plans Plan Status' and 'User Details First-Time Depositor Subscriber (Yes / No)', dummying is equivalent to label encoding.\n",
    "* 'Subscription Loan Channel Automated Plan Autoloan Channel Nickname' and 'MG Referral Source: Last Non-Direct Click Medium Bucket' will have 8 and 10 dummy variables respectively"
   ]
  },
  {
   "cell_type": "code",
   "execution_count": null,
   "metadata": {
    "id": "ILms3DDQYwtZ"
   },
   "outputs": [],
   "source": [
    "def label_encode(Series):\n",
    "    label_list = list(np.unique(Series))\n",
    "    le = LabelEncoder()\n",
    "    le.fit(label_list)\n",
    "    labeled = le.transform(Series)\n",
    "    label_mapping = dict(zip(le.transform(le.classes_), le.classes_))\n",
    "    return labeled, label_mapping "
   ]
  },
  {
   "cell_type": "code",
   "execution_count": null,
   "metadata": {
    "colab": {
     "base_uri": "https://localhost:8080/",
     "height": 415
    },
    "executionInfo": {
     "elapsed": 7026,
     "status": "ok",
     "timestamp": 1615544108253,
     "user": {
      "displayName": "Zhe Wang",
      "photoUrl": "",
      "userId": "10298367594799987348"
     },
     "user_tz": 480
    },
    "id": "0-Uhh0dtYwtZ",
    "outputId": "e1a811e6-d272-4065-e56a-da8f57643f04"
   },
   "outputs": [],
   "source": [
    "#  Automated Lending & Deposit Plans Plan Status\n",
    "ALDPPS, map_ALDPPS = label_encode(glm_df['Plan Status'])\n",
    "glm_df.loc[:, 'Plan Status'] = ALDPPS\n",
    "print('Plan Status: \\n\\t', map_ALDPPS)\n",
    "\n",
    "#  User Details First-Time Depositor Subscriber (Yes / No)\n",
    "user, map_user = label_encode(glm_df['First-Time Depositor Subscriber (Yes / No)'])\n",
    "glm_df.loc[:, 'First-Time Depositor Subscriber (Yes / No)'] = user\n",
    "print('First-Time Depositor Subscriber (Yes / No): \\n\\t', map_user)\n",
    "\n",
    "#  Inside United States\n",
    "ALDPPS, map_ALDPPS = label_encode(glm_df['Inside United States'])\n",
    "glm_df.loc[:, 'Inside United States'] = ALDPPS\n",
    "print('Inside United States: \\n\\t', map_ALDPPS)\n",
    "\n",
    "#  Signup On Promo Day\n",
    "ALDPPS, map_ALDPPS = label_encode(glm_df['Signup On Promo Day'])\n",
    "glm_df.loc[:, 'Signup On Promo Day'] = ALDPPS\n",
    "print('Signup On Promo Day: \\n\\t', map_ALDPPS)\n",
    "\n",
    "# Category Name\n",
    "dummy_Category = pd.get_dummies(glm_df['Category Name'], prefix = 'Category_')\n",
    "dummy_Category = dummy_Category.drop(columns = ['Category__unknown'])\n",
    "\n",
    "# Medium Bucket\n",
    "dummy_Medium = pd.get_dummies(glm_df['Medium Bucket'], prefix = 'Medium_')\n",
    "dummy_Medium = dummy_Medium.drop(columns = ['Medium__unknown'])\n",
    "\n",
    "# Start Year\n",
    "dummy_startYear = pd.get_dummies(glm_df['Start Year'], prefix = 'startYear_', drop_first=True)\n",
    "\n",
    "# Combine\n",
    "glm_df = pd.concat([glm_df.drop(columns = ['Category Name', 'Medium Bucket', 'Start Year']),\n",
    "                   dummy_Category,\n",
    "                   dummy_Medium,\n",
    "                   dummy_startYear], axis = 1)\n",
    "glm_df.head()"
   ]
  },
  {
   "cell_type": "code",
   "execution_count": null,
   "metadata": {
    "colab": {
     "base_uri": "https://localhost:8080/"
    },
    "executionInfo": {
     "elapsed": 7020,
     "status": "ok",
     "timestamp": 1615544108254,
     "user": {
      "displayName": "Zhe Wang",
      "photoUrl": "",
      "userId": "10298367594799987348"
     },
     "user_tz": 480
    },
    "id": "Vqt6l6h0SP3S",
    "outputId": "daf32abf-439d-4eb0-9e81-e8a14d5a7f0e"
   },
   "outputs": [],
   "source": [
    "glm_df.shape"
   ]
  },
  {
   "cell_type": "markdown",
   "metadata": {
    "id": "JOUT3GxTYwtZ"
   },
   "source": [
    "# Correlation"
   ]
  },
  {
   "cell_type": "code",
   "execution_count": null,
   "metadata": {
    "colab": {
     "base_uri": "https://localhost:8080/"
    },
    "executionInfo": {
     "elapsed": 7137,
     "status": "ok",
     "timestamp": 1615544108376,
     "user": {
      "displayName": "Zhe Wang",
      "photoUrl": "",
      "userId": "10298367594799987348"
     },
     "user_tz": 480
    },
    "id": "0kY7CeeQYwtZ",
    "outputId": "0a04730d-bf20-4113-f87c-6df8364c1246"
   },
   "outputs": [],
   "source": [
    "def corrFilter(x: pd.DataFrame, bound: float):\n",
    "    xCorr = glm_df.corr()\n",
    "    xFiltered = xCorr[((xCorr >= bound) | (xCorr <= -bound)) & (xCorr !=1.000)]\n",
    "    xFlattened = xFiltered.unstack().sort_values().drop_duplicates()\n",
    "    return xFlattened\n",
    "\n",
    "corrFilter(glm_df, .3)"
   ]
  },
  {
   "cell_type": "code",
   "execution_count": null,
   "metadata": {
    "colab": {
     "base_uri": "https://localhost:8080/"
    },
    "executionInfo": {
     "elapsed": 7134,
     "status": "ok",
     "timestamp": 1615544108378,
     "user": {
      "displayName": "Zhe Wang",
      "photoUrl": "",
      "userId": "10298367594799987348"
     },
     "user_tz": 480
    },
    "id": "IZW8zF_IMdV2",
    "outputId": "e557e291-ce38-4d1e-d8f6-97dbf68fc9f1"
   },
   "outputs": [],
   "source": [
    "# print again\n",
    "print('Plan Status: \\n\\t', map_ALDPPS)\n",
    "print('First-Time Depositor Subscriber (Yes / No): \\n\\t', map_user)\n",
    "print('Inside United States: \\n\\t', map_ALDPPS)\n",
    "print('Signup On Promo Day: \\n\\t', map_ALDPPS)"
   ]
  },
  {
   "cell_type": "code",
   "execution_count": null,
   "metadata": {
    "id": "UYLWOegqqJaF"
   },
   "outputs": [],
   "source": [
    "# #Feature importance\n",
    "# X = glm_df.drop(['Plan Status'], axis = 1)  ## X usually means our input variables (or independent variables)\n",
    "# y = glm_df['Plan Status']\n",
    "# # logistic regression for feature importance\n",
    "# # define the model\n",
    "# model = LogisticRegression()\n",
    "# # fit the model\n",
    "# model.fit(X, y)\n",
    "# sorted_idx = model.coef_[0].argsort()\n",
    "# feature_importance_ = pd.DataFrame({'Importance' : model.coef_[0][sorted_idx]}, index = X.columns[sorted_idx])\n",
    "# feature_importance_.nlargest(10, 'Importance').plot(kind='barh')\n",
    "# plt.xlabel(\"Logistic Regression Feature Importance\")"
   ]
  },
  {
   "cell_type": "markdown",
   "metadata": {
    "id": "_NDzG8ULYwta"
   },
   "source": [
    "# Training / Test Split"
   ]
  },
  {
   "cell_type": "code",
   "execution_count": null,
   "metadata": {
    "id": "WEAqNDXxYwta"
   },
   "outputs": [],
   "source": [
    "x_train, x_test, y_train, y_test = train_test_split(\n",
    "    glm_df.iloc[:, 1:],\n",
    "    glm_df.iloc[:, 0],\n",
    "    test_size = 0.3,\n",
    "    stratify = glm_df.iloc[:, 0],\n",
    "    random_state = 500\n",
    ")"
   ]
  },
  {
   "cell_type": "code",
   "execution_count": null,
   "metadata": {
    "id": "WybuAirndqrx"
   },
   "outputs": [],
   "source": [
    "#do scaling\n",
    "x_train_scale = x_train.copy()\n",
    "x_test_scale = x_test.copy()\n",
    "y_train_scale = y_train.copy()\n",
    "y_test_scale = y_test.copy()\n",
    "\n",
    "#store Mean, std from train, and standardize to test data\n",
    "\n",
    "# numerical features\n",
    "num_cols = ['Monthly Plan Deposit Amount','Plan Donation Rate']\n",
    "\n",
    "# apply standardization on numerical features\n",
    "for i in num_cols:\n",
    "    \n",
    "    # fit on training data column\n",
    "    scale = StandardScaler().fit(x_train_scale[[i]])\n",
    "    \n",
    "    # transform the training data column\n",
    "    x_train_scale[i] = scale.transform(x_train_scale[[i]])\n",
    "    \n",
    "    # transform the testing data column\n",
    "    x_test_scale[i] = scale.transform(x_test_scale[[i]])\n"
   ]
  },
  {
   "cell_type": "code",
   "execution_count": null,
   "metadata": {
    "id": "BEzeOFiGn1zQ"
   },
   "outputs": [],
   "source": []
  },
  {
   "cell_type": "code",
   "execution_count": null,
   "metadata": {
    "colab": {
     "base_uri": "https://localhost:8080/"
    },
    "executionInfo": {
     "elapsed": 7235,
     "status": "ok",
     "timestamp": 1615544108490,
     "user": {
      "displayName": "Zhe Wang",
      "photoUrl": "",
      "userId": "10298367594799987348"
     },
     "user_tz": 480
    },
    "id": "j0La3JdUYwta",
    "outputId": "fba1e69b-7fc2-4a70-cb2c-4dcd2c996170"
   },
   "outputs": [],
   "source": [
    "print('Shape of x_train: {}'.format(x_train.shape))\n",
    "print('Shape of x_test: {}'.format(x_test.shape))"
   ]
  },
  {
   "cell_type": "code",
   "execution_count": null,
   "metadata": {
    "colab": {
     "base_uri": "https://localhost:8080/"
    },
    "executionInfo": {
     "elapsed": 7229,
     "status": "ok",
     "timestamp": 1615544108491,
     "user": {
      "displayName": "Zhe Wang",
      "photoUrl": "",
      "userId": "10298367594799987348"
     },
     "user_tz": 480
    },
    "id": "Xon1XukbbTKu",
    "outputId": "9f602022-4324-4855-803a-4370a8527cbe"
   },
   "outputs": [],
   "source": [
    "print(\"After OverSampling, counts of label '1': {}\".format(sum(y_train==1)))\n",
    "print(\"After OverSampling, counts of label '0': {}\".format(sum(y_train==0)))"
   ]
  },
  {
   "cell_type": "code",
   "execution_count": null,
   "metadata": {
    "colab": {
     "base_uri": "https://localhost:8080/"
    },
    "executionInfo": {
     "elapsed": 7484,
     "status": "ok",
     "timestamp": 1615544108758,
     "user": {
      "displayName": "Zhe Wang",
      "photoUrl": "",
      "userId": "10298367594799987348"
     },
     "user_tz": 480
    },
    "id": "5RT_3J74gFBE",
    "outputId": "ea6df4a4-eb08-4cc4-8e44-98f6002dcec0"
   },
   "outputs": [],
   "source": [
    "# deal with data imbalance\n",
    "\n",
    "smt = SMOTE(random_state=0)\n",
    "x_train_SMOTE, y_train_SMOTE = smt.fit_sample(x_train, y_train)"
   ]
  },
  {
   "cell_type": "code",
   "execution_count": null,
   "metadata": {
    "colab": {
     "base_uri": "https://localhost:8080/"
    },
    "executionInfo": {
     "elapsed": 7475,
     "status": "ok",
     "timestamp": 1615544108758,
     "user": {
      "displayName": "Zhe Wang",
      "photoUrl": "",
      "userId": "10298367594799987348"
     },
     "user_tz": 480
    },
    "id": "VIam41-9gSbr",
    "outputId": "d767b4ad-b318-40f7-c920-b4f17e6ab06f"
   },
   "outputs": [],
   "source": [
    "print('Shape of x_train: {}'.format(x_train_SMOTE.shape))\n",
    "print('Shape of x_test: {}'.format(y_train_SMOTE.shape))"
   ]
  },
  {
   "cell_type": "code",
   "execution_count": null,
   "metadata": {
    "colab": {
     "base_uri": "https://localhost:8080/"
    },
    "executionInfo": {
     "elapsed": 7587,
     "status": "ok",
     "timestamp": 1615544108878,
     "user": {
      "displayName": "Zhe Wang",
      "photoUrl": "",
      "userId": "10298367594799987348"
     },
     "user_tz": 480
    },
    "id": "kMBQLUOOhybK",
    "outputId": "e6171806-569f-4a02-c692-50692f1cbbc7"
   },
   "outputs": [],
   "source": [
    "print(\"After OverSampling, counts of label '1': {}\".format(sum(y_train_SMOTE==1)))\n",
    "print(\"After OverSampling, counts of label '0': {}\".format(sum(y_train_SMOTE==0)))"
   ]
  },
  {
   "cell_type": "code",
   "execution_count": null,
   "metadata": {
    "id": "9TH9U-8llwaT"
   },
   "outputs": [],
   "source": []
  },
  {
   "cell_type": "code",
   "execution_count": null,
   "metadata": {
    "id": "UUzbEM0_T1Ca"
   },
   "outputs": [],
   "source": [
    "#cross validation - fine tuning model\n",
    "#training and validation loss plot"
   ]
  },
  {
   "cell_type": "markdown",
   "metadata": {
    "id": "ddTEmsBCYwtb"
   },
   "source": [
    "# Logistic Regression"
   ]
  },
  {
   "cell_type": "markdown",
   "metadata": {
    "id": "b8tA1GkdYwtb"
   },
   "source": [
    "Model 1 - Sklearn\n"
   ]
  },
  {
   "cell_type": "code",
   "execution_count": null,
   "metadata": {
    "colab": {
     "base_uri": "https://localhost:8080/"
    },
    "executionInfo": {
     "elapsed": 6178,
     "status": "ok",
     "timestamp": 1615520598594,
     "user": {
      "displayName": "Mia Chen",
      "photoUrl": "",
      "userId": "08629909723888894808"
     },
     "user_tz": 480
    },
    "id": "gFIfNoUCUl1z",
    "outputId": "a6fe9747-2f55-4395-d62c-c64ca873d293"
   },
   "outputs": [],
   "source": [
    "# Raw regression and test on test set\n",
    "LR = LogisticRegression(random_state=2021, max_iter=1000)\n",
    "fit1 = LR.fit(x_train_scale, y_train_scale)\n",
    "pred1 = fit1.predict(x_test_scale)\n",
    "\n",
    "print(classification_report(y_test_scale, pred1))"
   ]
  },
  {
   "cell_type": "code",
   "execution_count": null,
   "metadata": {
    "colab": {
     "base_uri": "https://localhost:8080/"
    },
    "executionInfo": {
     "elapsed": 10019,
     "status": "ok",
     "timestamp": 1615520602441,
     "user": {
      "displayName": "Mia Chen",
      "photoUrl": "",
      "userId": "08629909723888894808"
     },
     "user_tz": 480
    },
    "id": "7i-8X8bGdPyl",
    "outputId": "6cbf0cb1-a8f3-43de-ab5b-d629e63026be"
   },
   "outputs": [],
   "source": [
    "# Regression using Cross Validation and test on train set\n",
    "LR = LogisticRegressionCV(cv=5, random_state=2021, max_iter=1000)\n",
    "fit2 = LR.fit(x_train_scale, y_train_scale)\n",
    "pred2 = fit2.predict(x_train_scale)\n",
    "\n",
    "print(classification_report(y_train_scale, pred2))"
   ]
  },
  {
   "cell_type": "code",
   "execution_count": null,
   "metadata": {
    "colab": {
     "base_uri": "https://localhost:8080/"
    },
    "executionInfo": {
     "elapsed": 13745,
     "status": "ok",
     "timestamp": 1615520606173,
     "user": {
      "displayName": "Mia Chen",
      "photoUrl": "",
      "userId": "08629909723888894808"
     },
     "user_tz": 480
    },
    "id": "1hm55xPfYwtb",
    "outputId": "9cbbd63c-b836-41e8-bdcb-55f8ff574ac7"
   },
   "outputs": [],
   "source": [
    "# Regression using Cross Validation and test on test set\n",
    "\n",
    "LR = LogisticRegressionCV(cv=5, random_state=2021, max_iter=1000)\n",
    "fit3 = LR.fit(x_train_scale, y_train_scale)\n",
    "pred3 = fit3.predict(x_test_scale)\n",
    "\n",
    "print(classification_report(y_test_scale, pred3))"
   ]
  },
  {
   "cell_type": "code",
   "execution_count": null,
   "metadata": {
    "colab": {
     "base_uri": "https://localhost:8080/"
    },
    "executionInfo": {
     "elapsed": 29588,
     "status": "ok",
     "timestamp": 1615520622023,
     "user": {
      "displayName": "Mia Chen",
      "photoUrl": "",
      "userId": "08629909723888894808"
     },
     "user_tz": 480
    },
    "id": "SjlHBOIgyXy8",
    "outputId": "f81e40f9-c046-44fb-aaa1-03c4dd028097"
   },
   "outputs": [],
   "source": [
    "# Details for cross validation\n",
    "\n",
    "scores = cross_val_score(fit3, x_train_scale, y_train_scale, cv=5, scoring= 'accuracy')\n",
    "print('Cross-Validation Accuracy Scores', scores)"
   ]
  },
  {
   "cell_type": "code",
   "execution_count": null,
   "metadata": {
    "colab": {
     "base_uri": "https://localhost:8080/"
    },
    "executionInfo": {
     "elapsed": 29583,
     "status": "ok",
     "timestamp": 1615520622024,
     "user": {
      "displayName": "Mia Chen",
      "photoUrl": "",
      "userId": "08629909723888894808"
     },
     "user_tz": 480
    },
    "id": "RdBX_ExS7D3-",
    "outputId": "137dc359-a3e9-460a-f36c-63c70ac7cb5c"
   },
   "outputs": [],
   "source": [
    "#Check for overfitting\n",
    "train_as = metrics.accuracy_score(pred2, y_train_scale)\n",
    "test_as = metrics.accuracy_score(pred3, y_test_scale)\n",
    "print(f\"Accuracy score for test data : {test_as}\")\n",
    "print(f\"Accuracy score for train data : {train_as}\")"
   ]
  },
  {
   "cell_type": "code",
   "execution_count": null,
   "metadata": {
    "id": "LLDTGYZ6jNKj"
   },
   "outputs": [],
   "source": [
    "# bring in interaction terms\n",
    "poly=preprocessing.PolynomialFeatures(2, interaction_only=False, include_bias=False)\n",
    "df_array = poly.fit_transform(x_train_scale)\n",
    "\n",
    "target_feature_names = ['_x_'.join(['{}^{}'.format(pair[0],pair[1]) for pair in tuple if pair[1]!=0]) for tuple in [zip(x_train_scale.columns,p) for p in poly.powers_]]\n",
    "result_train= pd.DataFrame(df_array, columns = target_feature_names)"
   ]
  },
  {
   "cell_type": "code",
   "execution_count": null,
   "metadata": {
    "id": "B8bVckEymK_c"
   },
   "outputs": [],
   "source": [
    "# bring in interaction terms\n",
    "poly=preprocessing.PolynomialFeatures(2, interaction_only=False, include_bias=False)\n",
    "df_array = poly.fit_transform(x_test_scale)\n",
    "\n",
    "target_feature_names = ['_x_'.join(['{}^{}'.format(pair[0],pair[1]) for pair in tuple if pair[1]!=0]) for tuple in [zip(x_test_scale.columns,p) for p in poly.powers_]]\n",
    "result_test= pd.DataFrame(df_array, columns = target_feature_names)"
   ]
  },
  {
   "cell_type": "code",
   "execution_count": null,
   "metadata": {
    "colab": {
     "base_uri": "https://localhost:8080/"
    },
    "executionInfo": {
     "elapsed": 29712,
     "status": "ok",
     "timestamp": 1615520622164,
     "user": {
      "displayName": "Mia Chen",
      "photoUrl": "",
      "userId": "08629909723888894808"
     },
     "user_tz": 480
    },
    "id": "qUVsWXfYjNIM",
    "outputId": "5b1ef95d-cc52-4339-9b67-daf9c3d2b04b"
   },
   "outputs": [],
   "source": [
    "len(result_train.columns)"
   ]
  },
  {
   "cell_type": "code",
   "execution_count": null,
   "metadata": {
    "id": "Q2LiAApkjNEj"
   },
   "outputs": [],
   "source": []
  },
  {
   "cell_type": "code",
   "execution_count": null,
   "metadata": {
    "id": "BIi4lhVdVJSd"
   },
   "outputs": [],
   "source": [
    "def roc_auc_plot(fpr, tpr, roc_auc):\n",
    "    plt.figure()\n",
    "    plt.plot(fpr, tpr, label='Logistic Regression (area = %0.2f)' % roc_auc)\n",
    "    plt.plot([0, 1], [0, 1],'r--')\n",
    "    plt.xlim([0.0, 1.0])\n",
    "    plt.ylim([0.0, 1.05])\n",
    "    plt.xlabel('False Positive Rate')\n",
    "    plt.ylabel('True Positive Rate')\n",
    "    plt.title('Receiver operating characteristic')\n",
    "    plt.legend(loc=\"lower right\")\n",
    "    plt.savefig('Log_ROC')\n",
    "    plt.show()"
   ]
  },
  {
   "cell_type": "code",
   "execution_count": null,
   "metadata": {
    "id": "qpAht4T4IrAw"
   },
   "outputs": [],
   "source": [
    "def logistic(X_train, y_train, X_test, y_test):\n",
    "    logreg = LogisticRegressionCV(cv=5, random_state=2021, max_iter=10000)\n",
    "    fit = logreg.fit(X_train, y_train)\n",
    "    y_pred = fit.predict(X_test)\n",
    "    y_prob = fit.predict_proba(X_test)[:,1]\n",
    "    roc_auc = roc_auc_score(y_test, y_prob)\n",
    "    fpr, tpr, thresholds = roc_curve(y_test, y_prob)\n",
    "\n",
    "    print(\"=============Confusion Matrix=============\")\n",
    "    print(confusion_matrix(y_test, y_pred))\n",
    "    print('\\n')\n",
    "    plot_confusion_matrix(fit, X_test, y_test, cmap=plt.cm.Blues)  \n",
    "    plt.show()\n",
    "    print(\"=============Key Metrics==================\")\n",
    "    print(classification_report(y_test, y_pred))\n",
    "    print(\"=============ROC AUC======================\")\n",
    "    roc_auc_plot(fpr, tpr, roc_auc) \n",
    "    print('AUC:', roc_auc)\n",
    "\n",
    "    print(\"=============ROC AUC======================\")\n",
    "  \n",
    "\n",
    "    table=pd.DataFrame({'columns':X_test.columns, 'coef':fit.coef_.tolist()[0]})\n",
    "    remain_terms=table[table['coef']!=0]\n",
    "    sorted = remain_terms.sort_values(by=['coef'])\n",
    "    print(sorted.head(10))\n",
    "    return sorted"
   ]
  },
  {
   "cell_type": "code",
   "execution_count": null,
   "metadata": {
    "colab": {
     "base_uri": "https://localhost:8080/",
     "height": 1000
    },
    "executionInfo": {
     "elapsed": 203277,
     "status": "ok",
     "timestamp": 1615520795742,
     "user": {
      "displayName": "Mia Chen",
      "photoUrl": "",
      "userId": "08629909723888894808"
     },
     "user_tz": 480
    },
    "id": "yiDwfqz1I82y",
    "outputId": "7176d54d-d6f7-4896-cb26-d2432c0fe783"
   },
   "outputs": [],
   "source": [
    "interaction_model = logistic(result_train,y_train_scale, result_test, y_test_scale)"
   ]
  },
  {
   "cell_type": "code",
   "execution_count": null,
   "metadata": {
    "colab": {
     "base_uri": "https://localhost:8080/",
     "height": 1000
    },
    "executionInfo": {
     "elapsed": 4449,
     "status": "ok",
     "timestamp": 1615520839113,
     "user": {
      "displayName": "Mia Chen",
      "photoUrl": "",
      "userId": "08629909723888894808"
     },
     "user_tz": 480
    },
    "id": "wft1Ul9m7m0L",
    "outputId": "d899c811-af06-432d-b83a-b445d26434cf"
   },
   "outputs": [],
   "source": [
    "pure_model = logistic(x_train_scale,y_train_scale, x_test_scale, y_test_scale)\n",
    "print('')\n",
    "print(pure_model)"
   ]
  },
  {
   "cell_type": "markdown",
   "metadata": {
    "id": "NIleeOESaT_f"
   },
   "source": [
    "Model 2 - statsmodels"
   ]
  },
  {
   "cell_type": "code",
   "execution_count": null,
   "metadata": {
    "id": "zTbpZ4_EaTeG"
   },
   "outputs": [],
   "source": [
    "import statsmodels.api as sm\n",
    "lr = sm.Logit(y_train_scale, x_train_scale).fit(maxiter=1000)\n",
    "lr.summary()"
   ]
  },
  {
   "cell_type": "markdown",
   "metadata": {
    "id": "ZlUCX7gDYwtd"
   },
   "source": [
    "# RandomForest"
   ]
  },
  {
   "cell_type": "code",
   "execution_count": null,
   "metadata": {
    "colab": {
     "base_uri": "https://localhost:8080/"
    },
    "executionInfo": {
     "elapsed": 1490,
     "status": "ok",
     "timestamp": 1615544396279,
     "user": {
      "displayName": "Zhe Wang",
      "photoUrl": "",
      "userId": "10298367594799987348"
     },
     "user_tz": 480
    },
    "id": "Mo39TgJQYwtd",
    "outputId": "64f6ce9a-1eaf-4215-d423-590d859fa8a9"
   },
   "outputs": [],
   "source": [
    "# Use train and test data without scaling\n",
    "# Random forest without tuning parameters\n",
    "rf = RandomForestClassifier(random_state = 2021)\n",
    "fit5 = rf.fit(x_train, y_train)\n",
    "pred5 = fit5.predict(x_test)\n",
    "print(classification_report(y_test, pred5))\n"
   ]
  },
  {
   "cell_type": "markdown",
   "metadata": {
    "id": "d_rDV2ZsARr5"
   },
   "source": [
    "Tuning Parameters"
   ]
  },
  {
   "cell_type": "code",
   "execution_count": null,
   "metadata": {
    "id": "fjV2xG3qFqLG"
   },
   "outputs": [],
   "source": [
    "# Tuning parameter by random search and grid search\n",
    "from sklearn.ensemble import RandomForestClassifier\n",
    "rf = RandomForestClassifier(random_state = 42)\n",
    "from pprint import pprint\n",
    "# Look at parameters used by our current forest\n",
    "print('Parameters currently in use:\\n')\n",
    "pprint(rf.get_params())"
   ]
  },
  {
   "cell_type": "code",
   "execution_count": null,
   "metadata": {
    "id": "gtyNv4VuFq-h"
   },
   "outputs": [],
   "source": [
    "from sklearn.model_selection import RandomizedSearchCV\n",
    "# Number of trees in random forest\n",
    "n_estimators = [int(x) for x in np.linspace(start = 200, stop = 2000, num = 10)]\n",
    "# Number of features to consider at every split\n",
    "max_features = ['auto', 'sqrt']\n",
    "# Maximum number of levels in tree\n",
    "max_depth = [int(x) for x in np.linspace(10, 110, num = 11)]\n",
    "max_depth.append(None)\n",
    "# Minimum number of samples required to split a node\n",
    "min_samples_split = [2, 5, 10]\n",
    "# Minimum number of samples required at each leaf node\n",
    "min_samples_leaf = [1, 2, 4]\n",
    "# Method of selecting samples for training each tree\n",
    "bootstrap = [True, False]\n",
    "# Create the random grid\n",
    "random_grid = {'n_estimators': n_estimators,\n",
    "               'max_features': max_features,\n",
    "               'max_depth': max_depth,\n",
    "               'min_samples_split': min_samples_split,\n",
    "               'min_samples_leaf': min_samples_leaf,\n",
    "               'bootstrap': bootstrap}\n",
    "pprint(random_grid)"
   ]
  },
  {
   "cell_type": "code",
   "execution_count": null,
   "metadata": {
    "id": "Mkc6bWKFFufe"
   },
   "outputs": [],
   "source": [
    "# Use the random grid to search for best hyperparameters\n",
    "# First create the base model to tune\n",
    "rf = RandomForestClassifier()\n",
    "# Random search of parameters, using 3 fold cross validation, \n",
    "# search across 100 different combinations, and use all available cores\n",
    "rf_random = RandomizedSearchCV(estimator = rf, param_distributions = random_grid, n_iter = 100, cv = 3, verbose=2, random_state=42, n_jobs = -1)\n",
    "# Fit the random search model\n",
    "rf_random.fit(x_train, y_train)"
   ]
  },
  {
   "cell_type": "code",
   "execution_count": null,
   "metadata": {
    "id": "xYB-RN5OFxbu"
   },
   "outputs": [],
   "source": [
    "rf_random.best_params_"
   ]
  },
  {
   "cell_type": "code",
   "execution_count": null,
   "metadata": {
    "id": "fkPf_J1fFzGu"
   },
   "outputs": [],
   "source": [
    "from sklearn.model_selection import GridSearchCV\n",
    "# Create the parameter grid based on the results of random search \n",
    "param_grid = {\n",
    "    'bootstrap': [True],\n",
    "    'max_depth': [80, 90, 100],\n",
    "    'max_features': ['sqrt'],\n",
    "    'min_samples_leaf': [3, 4, 5],\n",
    "    'min_samples_split': [9, 10, 11],\n",
    "    'n_estimators': [350, 400, 450]\n",
    "}\n",
    "# Create a based model\n",
    "rf = RandomForestClassifier()\n",
    "# Instantiate the grid search model\n",
    "grid_search = GridSearchCV(estimator = rf, param_grid = param_grid, \n",
    "                          cv = 3, n_jobs = -1, verbose = 2)"
   ]
  },
  {
   "cell_type": "code",
   "execution_count": null,
   "metadata": {
    "id": "-khgMnzQF16g"
   },
   "outputs": [],
   "source": [
    "# Fit the grid search to the data\n",
    "grid_search.fit(x_train, y_train)\n",
    "grid_search.best_params_"
   ]
  },
  {
   "cell_type": "code",
   "execution_count": null,
   "metadata": {
    "id": "i-NdCpn_F4KH"
   },
   "outputs": [],
   "source": [
    "# Fit in the search result to RF model\n",
    "from sklearn.metrics import roc_auc_score, roc_curve, confusion_matrix\n",
    "\n",
    "def random_forest(x_train, y_train, x_test, y_test):\n",
    "    rfc = RandomForestClassifier(bootstrap = True, n_estimators = 400, min_samples_split = 9, min_samples_leaf = 3, max_features = 'sqrt', max_depth = 90)\n",
    "    fit = rfc.fit(x_train, y_train)\n",
    "    y_pred = rfc.predict(x_test)\n",
    "    y_prob = rfc.predict_proba(x_test)[:,1]\n",
    "    roc_auc = roc_auc_score(y_test, y_prob)\n",
    "    fpr, tpr, thresholds = roc_curve(y_test, y_prob)\n",
    "    \n",
    "    \n",
    "\n",
    "    print(\"=============Confusion Matrix=============\")\n",
    "    print(confusion_matrix(y_test, y_pred))\n",
    "    print('\\n')\n",
    "    labels = ['active', 'cancelled']\n",
    "    plot_confusion_matrix(fit, x_test, y_test, display_labels= labels, cmap=plt.cm.Blues)  \n",
    "    plt.show()\n",
    "    print(\"=============Key Metrics==================\")\n",
    "    print(classification_report(y_test, y_pred))\n",
    "    print(\"=============ROC AUC======================\")\n",
    "    roc_auc_plot(fpr, tpr, roc_auc) \n",
    "    print('AUC:', roc_auc)"
   ]
  },
  {
   "cell_type": "code",
   "execution_count": null,
   "metadata": {
    "colab": {
     "base_uri": "https://localhost:8080/",
     "height": 866
    },
    "executionInfo": {
     "elapsed": 4580,
     "status": "ok",
     "timestamp": 1615544428097,
     "user": {
      "displayName": "Zhe Wang",
      "photoUrl": "",
      "userId": "10298367594799987348"
     },
     "user_tz": 480
    },
    "id": "vO4TzeiYF4A8",
    "outputId": "541c402c-1cef-437e-a359-1a3938a1d0da"
   },
   "outputs": [],
   "source": [
    "random_forest(x_train, y_train, x_test, y_test)"
   ]
  },
  {
   "cell_type": "markdown",
   "metadata": {
    "id": "_QWSIZx6AZZg"
   },
   "source": [
    "Feature Importance"
   ]
  },
  {
   "cell_type": "code",
   "execution_count": null,
   "metadata": {
    "colab": {
     "base_uri": "https://localhost:8080/",
     "height": 1000
    },
    "executionInfo": {
     "elapsed": 4105,
     "status": "ok",
     "timestamp": 1615545419191,
     "user": {
      "displayName": "Zhe Wang",
      "photoUrl": "",
      "userId": "10298367594799987348"
     },
     "user_tz": 480
    },
    "id": "yOkoj4rmVKF6",
    "outputId": "81da4054-5a1e-419f-b765-45c47c983bcc"
   },
   "outputs": [],
   "source": [
    "#Method 1: rf build in feature importance\n",
    "#https://mljar.com/blog/feature-importance-in-random-forest/\n",
    "\n",
    "rfc = RandomForestClassifier(bootstrap = True, n_estimators = 400, min_samples_split = 9, min_samples_leaf = 3, max_features = 'sqrt', max_depth = 90)\n",
    "rfc.fit(x_train, y_train)\n",
    "y_pred = rfc.predict(x_test)\n",
    "y_prob = rfc.predict_proba(x_test)[:,1]\n",
    "roc_auc = roc_auc_score(y_test, y_prob)\n",
    "fpr, tpr, thresholds = roc_curve(y_test, y_prob)\n",
    "\n",
    "\n",
    "importances = rfc.feature_importances_\n",
    "x_columns = x_train.columns[0:]\n",
    "indices = np.argsort(importances)[::-1]\n",
    "for f in range(x_train.shape[1]):\n",
    "    print(\"%2d) %-*s %f\" % (f + 1, 30, x_columns[indices[f]], importances[indices[f]]))\n",
    "\n",
    "print(\"=============Confusion Matrix=============\")\n",
    "print(confusion_matrix(y_test, y_pred))\n",
    "print('\\n')\n",
    "print(\"=============Key Metrics==================\")\n",
    "print(classification_report(y_test, y_pred))\n",
    "print(\"=============ROC AUC======================\")\n",
    "roc_auc_plot(fpr, tpr, roc_auc) \n",
    "print('AUC:', roc_auc)"
   ]
  },
  {
   "cell_type": "code",
   "execution_count": null,
   "metadata": {
    "id": "oLVeZ8AK00Dm"
   },
   "outputs": [],
   "source": [
    "plt.figure(figsize=(10,10))\n",
    "sorted_idx = rfc.feature_importances_.argsort()\n",
    "plt.barh(x_test.columns[sorted_idx], rfc.feature_importances_[sorted_idx])\n",
    "plt.xlabel(\"Random Forest Feature Importance\")\n",
    "plt.show()"
   ]
  },
  {
   "cell_type": "code",
   "execution_count": null,
   "metadata": {
    "id": "Zw9gMcuW8YJQ"
   },
   "outputs": [],
   "source": [
    "#Method 2: Drop column feature importance\n",
    "from sklearn.base import clone \n",
    "\n",
    "def imp_df(column_names, importances):\n",
    "    data = {\n",
    "        'Feature': column_names,\n",
    "        'Importance': importances,\n",
    "    }\n",
    "    df = pd.DataFrame(data) \\\n",
    "        .set_index('Feature') \\\n",
    "        .sort_values('Importance', ascending=False)\n",
    "\n",
    "    return df\n",
    "    \n",
    "def drop_col_feat_imp(model, X_train, y_train, random_state = 2021):\n",
    "    \n",
    "    # clone the model to have the exact same specification as the one initially trained\n",
    "    model_clone = clone(model)\n",
    "    # set random_state for comparability\n",
    "    model_clone.random_state = random_state\n",
    "    # training and scoring the benchmark model\n",
    "    model_clone.fit(X_train, y_train)\n",
    "    benchmark_score = model_clone.score(X_train, y_train)\n",
    "    # list for storing feature importances\n",
    "    importances = []\n",
    "    \n",
    "    # iterating over all columns and storing feature importance (difference between benchmark and new model)\n",
    "    for col in X_train.columns:\n",
    "        model_clone = clone(model)\n",
    "        model_clone.random_state = random_state\n",
    "        model_clone.fit(X_train.drop(col, axis = 1), y_train)\n",
    "        drop_col_score = model_clone.score(X_train.drop(col, axis = 1), y_train)\n",
    "        importances.append(benchmark_score - drop_col_score)\n",
    "    \n",
    "    importances_df = imp_df(X_train.columns, importances)\n",
    "    return importances_df"
   ]
  },
  {
   "cell_type": "code",
   "execution_count": null,
   "metadata": {
    "id": "nBgp5S6h8a2c"
   },
   "outputs": [],
   "source": [
    "feature_importance = drop_col_feat_imp(rfc, x_train, y_train, random_state = 2021)\n",
    "feature_importance"
   ]
  },
  {
   "cell_type": "code",
   "execution_count": null,
   "metadata": {
    "id": "3uOW3Nv4_2wt"
   },
   "outputs": [],
   "source": [
    "plt.figure(figsize=(10,10))\n",
    "plt.barh(feature_importance.index, feature_importance.Importance)\n",
    "plt.gca().invert_yaxis()\n",
    "plt.xlabel(\"Random Forest Drop Column Feature Importance\")\n",
    "plt.show()"
   ]
  },
  {
   "cell_type": "markdown",
   "metadata": {
    "id": "ip3jQGZxAv5L"
   },
   "source": [
    "SHAP"
   ]
  },
  {
   "cell_type": "code",
   "execution_count": null,
   "metadata": {
    "id": "wpbY2NnoAUDl"
   },
   "outputs": [],
   "source": [
    "rfc = RandomForestClassifier(bootstrap = True, n_estimators = 400, min_samples_split = 9, min_samples_leaf = 3, max_features = 'sqrt', max_depth = 90)\n",
    "fit = rfc.fit(x_train, y_train)\n",
    "shap_values = shap.TreeExplainer(fit).shap_values(x_train)"
   ]
  },
  {
   "cell_type": "code",
   "execution_count": null,
   "metadata": {
    "colab": {
     "base_uri": "https://localhost:8080/",
     "height": 531
    },
    "executionInfo": {
     "elapsed": 2890,
     "status": "ok",
     "timestamp": 1615548083378,
     "user": {
      "displayName": "Zhe Wang",
      "photoUrl": "",
      "userId": "10298367594799987348"
     },
     "user_tz": 480
    },
    "id": "Ow0zIwyhIkDb",
    "outputId": "ac073da0-d0fa-4ce7-a93e-e5262dcf0851"
   },
   "outputs": [],
   "source": [
    "shap.summary_plot(shap_values[1], x_train)"
   ]
  },
  {
   "cell_type": "code",
   "execution_count": null,
   "metadata": {
    "colab": {
     "base_uri": "https://localhost:8080/",
     "height": 388
    },
    "executionInfo": {
     "elapsed": 710,
     "status": "ok",
     "timestamp": 1615548094303,
     "user": {
      "displayName": "Zhe Wang",
      "photoUrl": "",
      "userId": "10298367594799987348"
     },
     "user_tz": 480
    },
    "id": "O1QLN9UYIsA4",
    "outputId": "b03695b4-5fc3-48c2-a273-201025f501a2"
   },
   "outputs": [],
   "source": [
    "def ABS_SHAP(df_shap,df):\n",
    "    #import matplotlib as plt\n",
    "    # Make a copy of the input data\n",
    "    shap_v = pd.DataFrame(df_shap)\n",
    "    feature_list = df.columns\n",
    "    shap_v.columns = feature_list\n",
    "    df_v = df.copy().reset_index().drop('index',axis=1)\n",
    "    \n",
    "    # Determine the correlation in order to plot with different colors\n",
    "    corr_list = list()\n",
    "    for i in feature_list:\n",
    "        b = np.corrcoef(shap_v[i],df_v[i])[1][0]\n",
    "        corr_list.append(b)\n",
    "    corr_df = pd.concat([pd.Series(feature_list),pd.Series(corr_list)],axis=1).fillna(0)\n",
    "    # Make a data frame. Column 1 is the feature, and Column 2 is the correlation coefficient\n",
    "    corr_df.columns  = ['Variable','Corr']\n",
    "    corr_df['Sign'] = np.where(corr_df['Corr']>0,'red','blue')\n",
    "    \n",
    "    # Plot it\n",
    "    shap_abs = np.abs(shap_v)\n",
    "    k=pd.DataFrame(shap_abs.mean()).reset_index()\n",
    "    k.columns = ['Variable','SHAP_abs']\n",
    "    k2 = k.merge(corr_df,left_on = 'Variable',right_on='Variable',how='inner')\n",
    "    k2 = k2.sort_values(by='SHAP_abs',ascending = True)\n",
    "    colorlist = k2['Sign']\n",
    "    ax = k2.plot.barh(x='Variable',y='SHAP_abs',color = colorlist, figsize=(5,6),legend=False)\n",
    "    ax.set_xlabel(\"SHAP Value (Red = Positive Impact)\")\n",
    "    \n",
    "ABS_SHAP(shap_values[1],x_train) "
   ]
  },
  {
   "cell_type": "code",
   "execution_count": null,
   "metadata": {
    "id": "fjsAb0k5Ij7n"
   },
   "outputs": [],
   "source": []
  },
  {
   "cell_type": "code",
   "execution_count": null,
   "metadata": {
    "colab": {
     "base_uri": "https://localhost:8080/",
     "height": 472
    },
    "executionInfo": {
     "elapsed": 1010,
     "status": "ok",
     "timestamp": 1615547947980,
     "user": {
      "displayName": "Zhe Wang",
      "photoUrl": "",
      "userId": "10298367594799987348"
     },
     "user_tz": 480
    },
    "id": "mNJPeERoFnwC",
    "outputId": "6893fbd3-30aa-4e21-bdc8-b454425ee073"
   },
   "outputs": [],
   "source": [
    "def make_shap_waterfall_plot(shap_values, features, num_display=20):\n",
    "    column_list = features.columns\n",
    "    feature_ratio = (np.abs(shap_values).sum(0) / np.abs(shap_values).sum()) * 100\n",
    "    column_list = column_list[np.argsort(feature_ratio)[::-1]]\n",
    "    feature_ratio_order = np.sort(feature_ratio)[::-1]\n",
    "    cum_sum = np.cumsum(feature_ratio_order)\n",
    "    column_list = column_list[:num_display]\n",
    "    feature_ratio_order = feature_ratio_order[:num_display]\n",
    "    cum_sum = cum_sum[:num_display]\n",
    "    \n",
    "    num_height = 0\n",
    "    if (num_display >= 20) & (len(column_list) >= 20):\n",
    "        num_height = (len(column_list) - 20) * 0.4\n",
    "        \n",
    "    fig, ax1 = plt.subplots(figsize=(8, 8 + num_height))\n",
    "    ax1.plot(cum_sum[::-1], column_list[::-1], c='blue', marker='o')\n",
    "    ax2 = ax1.twiny()\n",
    "    ax2.barh(column_list[::-1], feature_ratio_order[::-1], alpha=0.6)\n",
    "    \n",
    "    ax1.grid(True)\n",
    "    ax2.grid(False)\n",
    "    ax1.set_xticks(np.arange(0, round(cum_sum.max(), -1)+1, 10))\n",
    "    ax2.set_xticks(np.arange(0, round(feature_ratio_order.max(), -1)+1, 10))\n",
    "    ax1.set_xlabel('Cumulative Ratio')\n",
    "    ax2.set_xlabel('Composition Ratio')\n",
    "    ax1.tick_params(axis=\"y\", labelsize=13)\n",
    "    plt.ylim(-1, len(column_list))\n",
    "    \n",
    "# Shap waterfall plot\n",
    "make_shap_waterfall_plot(shap_values[1], x_train)"
   ]
  },
  {
   "cell_type": "code",
   "execution_count": null,
   "metadata": {
    "colab": {
     "base_uri": "https://localhost:8080/",
     "height": 1000
    },
    "executionInfo": {
     "elapsed": 1203,
     "status": "ok",
     "timestamp": 1615548432943,
     "user": {
      "displayName": "Zhe Wang",
      "photoUrl": "",
      "userId": "10298367594799987348"
     },
     "user_tz": 480
    },
    "id": "5muVRZZ0ADbT",
    "outputId": "7557684d-9d65-4cf5-e825-d0606d7ffa19"
   },
   "outputs": [],
   "source": [
    "# Let's have a look on the top features and their dependence plots\n",
    "top_features = ['Plan Donation Rate', 'Category__Women', 'startYear__2021', 'Monthly Plan Deposit Amount', 'Medium__Email']\n",
    "\n",
    "# Shap Dependence Plot for top features\n",
    "for feature in top_features:\n",
    "    shap.dependence_plot(feature, shap_values[1], x_train, interaction_index=None)"
   ]
  },
  {
   "cell_type": "code",
   "execution_count": null,
   "metadata": {
    "id": "MNNTK_A4VqqU"
   },
   "outputs": [],
   "source": [
    "#XGboost"
   ]
  }
 ],
 "metadata": {
  "colab": {
   "collapsed_sections": [],
   "name": "model v3.ipynb",
   "provenance": []
  },
  "kernelspec": {
   "display_name": "Python 3",
   "language": "python",
   "name": "python3"
  },
  "language_info": {
   "codemirror_mode": {
    "name": "ipython",
    "version": 3
   },
   "file_extension": ".py",
   "mimetype": "text/x-python",
   "name": "python",
   "nbconvert_exporter": "python",
   "pygments_lexer": "ipython3",
   "version": "3.8.3"
  }
 },
 "nbformat": 4,
 "nbformat_minor": 1
}
